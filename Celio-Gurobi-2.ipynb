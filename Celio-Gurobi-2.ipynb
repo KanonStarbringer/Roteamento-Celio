{
 "cells": [
  {
   "cell_type": "code",
   "execution_count": null,
   "id": "152a5951",
   "metadata": {},
   "outputs": [],
   "source": [
    "import sys\n",
    "import math\n",
    "import random\n",
    "from itertools import permutations\n",
    "import gurobipy as gp\n",
    "from gurobipy import GRB\n",
    "import pandas as pd\n",
    "import csv"
   ]
  },
  {
   "cell_type": "code",
   "execution_count": null,
   "id": "139487c9",
   "metadata": {},
   "outputs": [],
   "source": [
    "# number of locations, including the depot. The index of the depot is 0\n",
    "n = 10\n",
    "locations = [*range(n)]\n",
    "\n",
    "# number of vans\n",
    "K = 3\n",
    "vans = [*range(K)]"
   ]
  },
  {
   "cell_type": "code",
   "execution_count": null,
   "id": "98121d27",
   "metadata": {},
   "outputs": [],
   "source": [
    "#Tabela das origens de destinos\n",
    "path = '/Users/TullioPires/Python-Mestrado/Problema Celio/celio-problema.csv'\n",
    "celio = pd.read_csv(path, index_col=[0,1], squeeze=True)\n",
    "\n",
    "#Pivotar a tabela, para ler\n",
    "pivoted_celio = celio.reset_index().pivot(index = 'Origem', columns = 'Destino', values = 'Distancia')\n",
    "pivoted_celio"
   ]
  },
  {
   "cell_type": "code",
   "execution_count": null,
   "id": "ff252cc2",
   "metadata": {},
   "outputs": [],
   "source": [
    "time = {}\n",
    "with open(path, 'r') as csvfile:\n",
    "    reader = csv.DictReader(csvfile)\n",
    "    for row in reader:\n",
    "        i = int(row['Origem'])\n",
    "        j = int(row['Destino'])\n",
    "        distance = int(row['Distancia'])\n",
    "        time[(i, j)] = distance\n",
    "        \n",
    "#Mostrando as distancias como dicionário\n",
    "for (i, j), distance in time.items():\n",
    "    print(f\"Distance from {i} to {j}: {distance}\")"
   ]
  },
  {
   "cell_type": "code",
   "execution_count": null,
   "id": "4b0844ef",
   "metadata": {},
   "outputs": [],
   "source": [
    "#Modelo Celio Gurobi 2\n",
    "celio_gurobi = gp.Model('modelo_celio_gurobi.lp')"
   ]
  },
  {
   "cell_type": "code",
   "execution_count": null,
   "id": "f605251a",
   "metadata": {},
   "outputs": [],
   "source": [
    "#criando variáveis\n",
    "# x=1 se a van k visita e vai direto do ponto i pro j\n",
    "x = celio_gurobi.addVars(time.keys(), vans, vtype=GRB.BINARY, name='FromToBy') "
   ]
  },
  {
   "cell_type": "code",
   "execution_count": null,
   "id": "ecb2a289",
   "metadata": {},
   "outputs": [],
   "source": [
    "#criando variáveis\n",
    "# y=1 se o cliente i é visitado pela van k\n",
    "y = celio_gurobi.addVars(locations, vans, vtype=GRB.BINARY, name='visitBy')"
   ]
  },
  {
   "cell_type": "code",
   "execution_count": null,
   "id": "c0cf0e90",
   "metadata": {},
   "outputs": [],
   "source": [
    "#criando variáveis\n",
    "# O Nº de vans usadas é uma variável de decisão\n",
    "z = celio_gurobi.addVars(vans, vtype=GRB.BINARY, name='used')"
   ]
  },
  {
   "cell_type": "code",
   "execution_count": null,
   "id": "dd4fa84a",
   "metadata": {},
   "outputs": [],
   "source": [
    "#criando variáveis\n",
    "# tempo de viagem por van\n",
    "t = celio_gurobi.addVars(vans, ub=240, name='travelTime')"
   ]
  },
  {
   "cell_type": "code",
   "execution_count": null,
   "id": "38ed42d9",
   "metadata": {},
   "outputs": [],
   "source": [
    "#criando variáveis\n",
    "#Tempo de viagem máximo\n",
    "s = celio_gurobi.addVar(name='maxTravelTime')"
   ]
  },
  {
   "cell_type": "code",
   "execution_count": null,
   "id": "d65686fd",
   "metadata": {},
   "outputs": [],
   "source": [
    "#Criando restrições\n",
    "# Restrição de utilização das vans\n",
    "\n",
    "visitCustomer = celio_gurobi.addConstrs((y[i,k] <= z[k]  for k in vans for i in locations if i > 0), name='visitCustomer' )"
   ]
  },
  {
   "cell_type": "code",
   "execution_count": null,
   "id": "2a5312e8",
   "metadata": {},
   "outputs": [],
   "source": [
    "# Restrição de tempo\n",
    "# Excluindo o tempo de retorno para a base\n",
    "\n",
    "travelTime = celio_gurobi.addConstrs((gp.quicksum(time[i,j]*x[i,j,k] for i,j in time.keys() if j > 0) == t[k] for k in vans), \n",
    "                          name='travelTimeConstr' )"
   ]
  },
  {
   "cell_type": "code",
   "execution_count": null,
   "id": "4e78960d",
   "metadata": {},
   "outputs": [],
   "source": [
    "# Restrição de visita a TODOS os clientes\n",
    "visitAll = celio_gurobi.addConstrs((y.sum(i,'*') == 1 for i in locations if i > 0), name='visitAll' )"
   ]
  },
  {
   "cell_type": "code",
   "execution_count": null,
   "id": "1893c46d",
   "metadata": {},
   "outputs": [],
   "source": [
    "#Restrição do depósito, de que as vans voltam\n",
    "depotConstr = celio_gurobi.addConstrs((y[0, k] == z[k] for k in vans), name='depotConstr' )"
   ]
  },
  {
   "cell_type": "code",
   "execution_count": null,
   "id": "bff5f4fd",
   "metadata": {},
   "outputs": [],
   "source": [
    "# Restrição de chegada nos clientes\n",
    "#Se a localidade j é visitada pela van k, então ela vem de i\n",
    "ArriveConstr = celio_gurobi.addConstrs((x.sum('*',j,k) == y[j,k] for j,k in y.keys()), name='ArriveConstr' )"
   ]
  },
  {
   "cell_type": "code",
   "execution_count": null,
   "id": "7d51274c",
   "metadata": {},
   "outputs": [],
   "source": [
    "#Restrição de saída do cliente\n",
    "#Se a van k sai de j, então ela vai pra i\n",
    "LeaveConstr = celio_gurobi.addConstrs((x.sum(j,'*',k) == y[j,k] for j,k in y.keys()), name='LeaveConstr' )"
   ]
  },
  {
   "cell_type": "code",
   "execution_count": null,
   "id": "f28c9897",
   "metadata": {},
   "outputs": [],
   "source": [
    "#restrição de quebra de simetria\n",
    "breakSymm = celio_gurobi.addConstrs((y.sum('*',k-1) >= y.sum('*',k) for k in vans if k>0), name='breakSymm' )"
   ]
  },
  {
   "cell_type": "code",
   "execution_count": null,
   "id": "ddaf5ccb",
   "metadata": {},
   "outputs": [],
   "source": [
    "#Restrição de tempo de viagem máximo\n",
    "maxTravelTime = celio_gurobi.addConstrs((t[k] <= s for k in vans), name='maxTravelTimeConstr')"
   ]
  },
  {
   "cell_type": "code",
   "execution_count": null,
   "id": "a80bc658",
   "metadata": {},
   "outputs": [],
   "source": [
    "#Funções objetivos\n",
    "celio_gurobi.ModelSense = GRB.MINIMIZE\n",
    "celio_gurobi.setObjectiveN(z.sum(), 0, priority=1, name=\"Number of vans\")\n",
    "celio_gurobi.setObjectiveN(s, 1, priority=0, name=\"Travel time\")"
   ]
  },
  {
   "cell_type": "code",
   "execution_count": null,
   "id": "2eccbf45",
   "metadata": {},
   "outputs": [],
   "source": [
    "#Função callback\n",
    "#Criamos para evitar que existam rotas nas quais não se comece ou não se termine na base\n",
    "\n",
    "def subtourelim(model, where):\n",
    "    if where == GRB.Callback.MIPSOL:\n",
    "        #Faça uma lista das arestas selecionadas na solução\n",
    "        vals = model.cbGetSolution(model._x)\n",
    "        selected = gp.tuplelist((i,j) for i, j, k in model._x.keys()\n",
    "                                if vals[i, j, k] > 0.5)\n",
    "        #Ache o menor ciclo na lista de arestas selecionadas\n",
    "        tour = subtour(selected)\n",
    "        if len(tour) < n: \n",
    "            for k in vans:\n",
    "                model.cbLazy(gp.quicksum(model._x[i, j, k]\n",
    "                                         for i, j in permutations(tour, 2))\n",
    "                             <= len(tour)-1)\n",
    "\n",
    "\n",
    "#Dada uma tuplelist de quinas, ache a menor subtour que não contenha a base (0)\n",
    "def subtour(edges):\n",
    "    unvisited = list(range(1, n))\n",
    "    cycle = range(n+1)  # Tamanho inicial tem 1 cidade a mais\n",
    "    while unvisited:\n",
    "        thiscycle = []\n",
    "        neighbors = unvisited\n",
    "        while neighbors:\n",
    "            current = neighbors[0]\n",
    "            thiscycle.append(current)\n",
    "            if current != 0:\n",
    "                unvisited.remove(current)\n",
    "            neighbors = [j for i, j in edges.select(current, '*')\n",
    "                         if j == 0 or j in unvisited]\n",
    "        if 0 not in thiscycle and len(cycle) > len(thiscycle):\n",
    "            cycle = thiscycle\n",
    "    return cycle"
   ]
  },
  {
   "cell_type": "code",
   "execution_count": null,
   "id": "6ad9b03c",
   "metadata": {},
   "outputs": [],
   "source": [
    "# Verificando a formulação do modelo\n",
    "\n",
    "celio_gurobi.write('modelo_celio_gurobi.lp')"
   ]
  },
  {
   "cell_type": "code",
   "execution_count": null,
   "id": "a06a68bf",
   "metadata": {},
   "outputs": [],
   "source": [
    "# Rodando a otimização\n",
    "celio_gurobi._x = x\n",
    "celio_gurobi.Params.LazyConstraints = 1\n",
    "celio_gurobi.optimize(subtourelim)"
   ]
  },
  {
   "cell_type": "code",
   "execution_count": null,
   "id": "6275e34d",
   "metadata": {},
   "outputs": [],
   "source": [
    "# Print optimal routes\n",
    "for k in vans:\n",
    "    route = gp.tuplelist((i,j) for i,j in time.keys() if x[i,j,k].X > 0.5)\n",
    "    if route:\n",
    "        i = 0\n",
    "        print(f\"Route for van {k}: {i}\", end='')\n",
    "        while True:\n",
    "            i = route.select(i, '*')[0][1]\n",
    "            print(f\" -> {i}\", end='')\n",
    "            if i == 0:\n",
    "                break\n",
    "        print(f\". Travel time: {round(t[k].X,2)} min\")\n",
    "\n",
    "print(f\"Max travel time: {round(s.X,2)}\")"
   ]
  },
  {
   "cell_type": "code",
   "execution_count": null,
   "id": "76d5e57d",
   "metadata": {},
   "outputs": [],
   "source": []
  }
 ],
 "metadata": {
  "kernelspec": {
   "display_name": "Python 3 (ipykernel)",
   "language": "python",
   "name": "python3"
  },
  "language_info": {
   "codemirror_mode": {
    "name": "ipython",
    "version": 3
   },
   "file_extension": ".py",
   "mimetype": "text/x-python",
   "name": "python",
   "nbconvert_exporter": "python",
   "pygments_lexer": "ipython3",
   "version": "3.10.11"
  }
 },
 "nbformat": 4,
 "nbformat_minor": 5
}
